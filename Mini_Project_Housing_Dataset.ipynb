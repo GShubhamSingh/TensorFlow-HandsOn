{
  "nbformat": 4,
  "nbformat_minor": 0,
  "metadata": {
    "colab": {
      "name": "Mini Project Housing Dataset.ipynb",
      "version": "0.3.2",
      "provenance": [],
      "collapsed_sections": [],
      "include_colab_link": true
    },
    "kernelspec": {
      "name": "python3",
      "display_name": "Python 3"
    }
  },
  "cells": [
    {
      "cell_type": "markdown",
      "metadata": {
        "id": "view-in-github",
        "colab_type": "text"
      },
      "source": [
        "<a href=\"https://colab.research.google.com/github/GShubhamSingh/TensorFlow-HandsOn/blob/master/Mini_Project_Housing_Dataset.ipynb\" target=\"_parent\"><img src=\"https://colab.research.google.com/assets/colab-badge.svg\" alt=\"Open In Colab\"/></a>"
      ]
    },
    {
      "metadata": {
        "id": "UiAFoRae2I6V",
        "colab_type": "text"
      },
      "cell_type": "markdown",
      "source": [
        "**Import Libraries**"
      ]
    },
    {
      "metadata": {
        "id": "6zNOXC9S1n6h",
        "colab_type": "code",
        "colab": {}
      },
      "cell_type": "code",
      "source": [
        "import tensorflow as tf\n",
        "import numpy as np"
      ],
      "execution_count": 0,
      "outputs": []
    },
    {
      "metadata": {
        "id": "sn8fsjaI2Hwf",
        "colab_type": "code",
        "colab": {}
      },
      "cell_type": "code",
      "source": [
        "tf.reset_default_graph()"
      ],
      "execution_count": 0,
      "outputs": []
    },
    {
      "metadata": {
        "id": "XADyPBIB2y45",
        "colab_type": "text"
      },
      "cell_type": "markdown",
      "source": [
        "**Collect Data**"
      ]
    },
    {
      "metadata": {
        "id": "MCvL2J9F253F",
        "colab_type": "code",
        "colab": {}
      },
      "cell_type": "code",
      "source": [
        "from tensorflow.python.keras.datasets import boston_housing\n",
        "\n",
        "(features,actual_price),_ = boston_housing.load_data(test_split = 0)"
      ],
      "execution_count": 0,
      "outputs": []
    },
    {
      "metadata": {
        "id": "VP04kwNu3ouT",
        "colab_type": "code",
        "colab": {
          "base_uri": "https://localhost:8080/",
          "height": 34
        },
        "outputId": "b76b81a9-1cb1-4279-81bf-10d660c9dc76"
      },
      "cell_type": "code",
      "source": [
        "type(features)"
      ],
      "execution_count": 20,
      "outputs": [
        {
          "output_type": "execute_result",
          "data": {
            "text/plain": [
              "numpy.ndarray"
            ]
          },
          "metadata": {
            "tags": []
          },
          "execution_count": 20
        }
      ]
    },
    {
      "metadata": {
        "id": "Drr1gpe34OhY",
        "colab_type": "code",
        "colab": {
          "base_uri": "https://localhost:8080/",
          "height": 51
        },
        "outputId": "4ea158fc-6f71-457a-b3ab-2819f3f79d60"
      },
      "cell_type": "code",
      "source": [
        "print(\"features shape :\"+str(features.shape))\n",
        "print(\"actual price shape :\"+str(actual_price.shape))"
      ],
      "execution_count": 21,
      "outputs": [
        {
          "output_type": "stream",
          "text": [
            "features shape :(506, 13)\n",
            "actual price shape :(506,)\n"
          ],
          "name": "stdout"
        }
      ]
    },
    {
      "metadata": {
        "id": "dE4w8DFV-WKz",
        "colab_type": "code",
        "colab": {}
      },
      "cell_type": "code",
      "source": [
        "x = tf.placeholder(shape=[None,13],dtype=tf.float32, name='x-input')\n",
        "x_n = tf.layers.batch_normalization(x,training=True)\n",
        "y_ = tf.placeholder(shape=[None],dtype=tf.float32, name='y-input')"
      ],
      "execution_count": 0,
      "outputs": []
    },
    {
      "metadata": {
        "id": "l0M1Wyy9DLIe",
        "colab_type": "code",
        "colab": {}
      },
      "cell_type": "code",
      "source": [
        "w = tf.Variable(tf.zeros(shape=[13,1]), name=\"Weights\")\n",
        "b = tf.Variable(tf.zeros(shape=[1]), name=\"Bias\")"
      ],
      "execution_count": 0,
      "outputs": []
    },
    {
      "metadata": {
        "id": "koypN_DqDxoK",
        "colab_type": "code",
        "colab": {}
      },
      "cell_type": "code",
      "source": [
        "y= tf.add(tf.matmul(x_n,w),b ,name=\"output\")"
      ],
      "execution_count": 0,
      "outputs": []
    },
    {
      "metadata": {
        "id": "13AAfnaNE2fM",
        "colab_type": "code",
        "colab": {}
      },
      "cell_type": "code",
      "source": [
        "loss = tf.reduce_mean(tf.square(y-y_),name='Loss')"
      ],
      "execution_count": 0,
      "outputs": []
    },
    {
      "metadata": {
        "id": "rnN0VFlTFal-",
        "colab_type": "code",
        "colab": {}
      },
      "cell_type": "code",
      "source": [
        "train_opt = tf.train.GradientDescentOptimizer(0.03).minimize(loss)"
      ],
      "execution_count": 0,
      "outputs": []
    },
    {
      "metadata": {
        "id": "0qqNS2q-F3RI",
        "colab_type": "code",
        "colab": {}
      },
      "cell_type": "code",
      "source": [
        "sess = tf.Session()"
      ],
      "execution_count": 0,
      "outputs": []
    },
    {
      "metadata": {
        "id": "wRL2GGXzF6YE",
        "colab_type": "code",
        "colab": {}
      },
      "cell_type": "code",
      "source": [
        "sess.run(tf.global_variables_initializer())"
      ],
      "execution_count": 0,
      "outputs": []
    },
    {
      "metadata": {
        "id": "YZwxFkdqGQPR",
        "colab_type": "code",
        "colab": {}
      },
      "cell_type": "code",
      "source": [
        "training_epochs = 1000"
      ],
      "execution_count": 0,
      "outputs": []
    },
    {
      "metadata": {
        "id": "NcsgjEXAGXax",
        "colab_type": "code",
        "colab": {
          "base_uri": "https://localhost:8080/",
          "height": 187
        },
        "outputId": "70426a86-56e6-4d64-a0fe-3641549bc204"
      },
      "cell_type": "code",
      "source": [
        "for epoch in range(training_epochs):\n",
        "  _,train_loss = sess.run([train_opt,loss], feed_dict={x:features, y_: actual_price})\n",
        "  \n",
        "  if epoch%100 == 0 :\n",
        "    print(\"Training loss at step :\",epoch, 'is', train_loss)"
      ],
      "execution_count": 40,
      "outputs": [
        {
          "output_type": "stream",
          "text": [
            "Training loss at step : 0 is 84.41948\n",
            "Training loss at step : 100 is 84.41947\n",
            "Training loss at step : 200 is 84.41935\n",
            "Training loss at step : 300 is 84.41919\n",
            "Training loss at step : 400 is 84.41936\n",
            "Training loss at step : 500 is 84.4195\n",
            "Training loss at step : 600 is 84.41953\n",
            "Training loss at step : 700 is 84.419716\n",
            "Training loss at step : 800 is 84.41992\n",
            "Training loss at step : 900 is 84.420135\n"
          ],
          "name": "stdout"
        }
      ]
    }
  ]
}