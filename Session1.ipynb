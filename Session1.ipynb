{
  "nbformat": 4,
  "nbformat_minor": 0,
  "metadata": {
    "colab": {
      "name": "Session1.ipynb",
      "version": "0.3.2",
      "provenance": [],
      "collapsed_sections": [],
      "include_colab_link": true
    },
    "kernelspec": {
      "name": "python3",
      "display_name": "Python 3"
    }
  },
  "cells": [
    {
      "cell_type": "markdown",
      "metadata": {
        "id": "view-in-github",
        "colab_type": "text"
      },
      "source": [
        "<a href=\"https://colab.research.google.com/github/GShubhamSingh/TensorFlow-HandsOn/blob/master/Session1.ipynb\" target=\"_parent\"><img src=\"https://colab.research.google.com/assets/colab-badge.svg\" alt=\"Open In Colab\"/></a>"
      ]
    },
    {
      "metadata": {
        "id": "8s5O_YpTfsts",
        "colab_type": "text"
      },
      "cell_type": "markdown",
      "source": [
        "**Import Libraries**"
      ]
    },
    {
      "metadata": {
        "id": "i3dUzjlnIhSq",
        "colab_type": "code",
        "colab": {}
      },
      "cell_type": "code",
      "source": [
        "import tensorflow as tf"
      ],
      "execution_count": 0,
      "outputs": []
    },
    {
      "metadata": {
        "id": "FtdVs47Pf5WG",
        "colab_type": "text"
      },
      "cell_type": "markdown",
      "source": [
        "**Tensor Flow Version**"
      ]
    },
    {
      "metadata": {
        "id": "5M7JMOKwJjtw",
        "colab_type": "code",
        "colab": {
          "base_uri": "https://localhost:8080/",
          "height": 34
        },
        "outputId": "94392776-829f-4048-b40c-c01568a9327b"
      },
      "cell_type": "code",
      "source": [
        "tf.__version__"
      ],
      "execution_count": 50,
      "outputs": [
        {
          "output_type": "execute_result",
          "data": {
            "text/plain": [
              "'1.12.0-rc1'"
            ]
          },
          "metadata": {
            "tags": []
          },
          "execution_count": 50
        }
      ]
    },
    {
      "metadata": {
        "id": "o84C5NKif-YF",
        "colab_type": "text"
      },
      "cell_type": "markdown",
      "source": [
        "**Creating Variable and Defining Shape **"
      ]
    },
    {
      "metadata": {
        "id": "byJo4PJNJwiE",
        "colab_type": "code",
        "colab": {
          "base_uri": "https://localhost:8080/",
          "height": 34
        },
        "outputId": "dc5ca3f6-55ef-49e8-9008-f8e97568628d"
      },
      "cell_type": "code",
      "source": [
        "hello = tf.constant(\"Hello World\" , dtype='string')\n",
        "print(hello)"
      ],
      "execution_count": 51,
      "outputs": [
        {
          "output_type": "stream",
          "text": [
            "Tensor(\"Const_19:0\", shape=(), dtype=string)\n"
          ],
          "name": "stdout"
        }
      ]
    },
    {
      "metadata": {
        "id": "Mmg79reTJ8AY",
        "colab_type": "code",
        "colab": {
          "base_uri": "https://localhost:8080/",
          "height": 51
        },
        "outputId": "53c91ad1-06ac-427c-9e52-a8f0333b4015"
      },
      "cell_type": "code",
      "source": [
        "hello_1 = tf.constant(\"Hello World\", shape=[2,5], name=\"hello\")\n",
        "print(hello_1)\n",
        "hello_2 = tf.constant(\"Hello World\", shape=[5,2], name=\"hello\")\n",
        "print(hello_2)"
      ],
      "execution_count": 52,
      "outputs": [
        {
          "output_type": "stream",
          "text": [
            "Tensor(\"hello_11:0\", shape=(2, 5), dtype=string)\n",
            "Tensor(\"hello_12:0\", shape=(5, 2), dtype=string)\n"
          ],
          "name": "stdout"
        }
      ]
    },
    {
      "metadata": {
        "id": "h_eKASqNhpkz",
        "colab_type": "text"
      },
      "cell_type": "markdown",
      "source": [
        "**Starting a Session**\n",
        "\n",
        "\n",
        "*   Start Session\n",
        "*   Print value\n",
        "\n"
      ]
    },
    {
      "metadata": {
        "id": "jWqjkYKXhs1M",
        "colab_type": "code",
        "colab": {
          "base_uri": "https://localhost:8080/",
          "height": 238
        },
        "outputId": "155451b2-c716-484d-fff5-3aafab93d9a6"
      },
      "cell_type": "code",
      "source": [
        "session = tf.Session()\n",
        "print(\"Print Hello:\\n\"+str(session.run(hello)))\n",
        "print(\"Print Hello  with Shape 2*5 :\\n\"+str(session.run(hello_1)))\n",
        "print(\"Print Hello  with Shape 5*2 :\\n\"+str(session.run(hello_2)))\n"
      ],
      "execution_count": 59,
      "outputs": [
        {
          "output_type": "stream",
          "text": [
            "Print Hello:\n",
            "b'Hello World'\n",
            "Print Hello  with Shape 2*5 :\n",
            "[[b'Hello World' b'Hello World' b'Hello World' b'Hello World'\n",
            "  b'Hello World']\n",
            " [b'Hello World' b'Hello World' b'Hello World' b'Hello World'\n",
            "  b'Hello World']]\n",
            "Print Hello  with Shape 5*2 :\n",
            "[[b'Hello World' b'Hello World']\n",
            " [b'Hello World' b'Hello World']\n",
            " [b'Hello World' b'Hello World']\n",
            " [b'Hello World' b'Hello World']\n",
            " [b'Hello World' b'Hello World']]\n"
          ],
          "name": "stdout"
        }
      ]
    },
    {
      "metadata": {
        "id": "uHXYSoXHksxs",
        "colab_type": "text"
      },
      "cell_type": "markdown",
      "source": [
        "**Basic Operations **\n",
        "\n",
        "*  addition,Subtract, Multiply, Subtract\n",
        "\n"
      ]
    },
    {
      "metadata": {
        "id": "MjfmN_pZkd2f",
        "colab_type": "code",
        "colab": {
          "base_uri": "https://localhost:8080/",
          "height": 85
        },
        "outputId": "b8a9fc2e-b9be-4633-a273-dc3946dc59bb"
      },
      "cell_type": "code",
      "source": [
        "var1 = tf.constant([30] , dtype=float )\n",
        "var2 = tf.constant([7.5])\n",
        "\n",
        "result_add = tf.add(var1,var2)\n",
        "result_subtract = tf.subtract(var1,var2)\n",
        "result_multiply = tf.multiply(var1,var2)\n",
        "result_divide = tf.divide(var1,var2)\n",
        "\n",
        "print(\"Addition : \"+str(session.run(result_add)))\n",
        "print(\"Subtract : \"+str(session.run(result_subtract)))\n",
        "print(\"Multiply : \"+str(session.run(result_multiply)))\n",
        "print(\"Divide : \"+str(session.run(result_divide)))"
      ],
      "execution_count": 54,
      "outputs": [
        {
          "output_type": "stream",
          "text": [
            "Addition : [37.5]\n",
            "Subtract : [22.5]\n",
            "Multiply : [225.]\n",
            "Divide : [4.]\n"
          ],
          "name": "stdout"
        }
      ]
    }
  ]
}