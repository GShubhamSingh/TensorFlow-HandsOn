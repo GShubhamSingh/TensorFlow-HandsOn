{
  "nbformat": 4,
  "nbformat_minor": 0,
  "metadata": {
    "colab": {
      "name": "Session1.ipynb",
      "version": "0.3.2",
      "provenance": [],
      "collapsed_sections": [],
      "include_colab_link": true
    },
    "kernelspec": {
      "name": "python3",
      "display_name": "Python 3"
    }
  },
  "cells": [
    {
      "cell_type": "markdown",
      "metadata": {
        "id": "view-in-github",
        "colab_type": "text"
      },
      "source": [
        "<a href=\"https://colab.research.google.com/github/GShubhamSingh/TensorFlow-HandsOn/blob/master/Session1.ipynb\" target=\"_parent\"><img src=\"https://colab.research.google.com/assets/colab-badge.svg\" alt=\"Open In Colab\"/></a>"
      ]
    },
    {
      "metadata": {
        "id": "8s5O_YpTfsts",
        "colab_type": "text"
      },
      "cell_type": "markdown",
      "source": [
        "**Import Libraries**"
      ]
    },
    {
      "metadata": {
        "id": "i3dUzjlnIhSq",
        "colab_type": "code",
        "colab": {}
      },
      "cell_type": "code",
      "source": [
        "import tensorflow as tf"
      ],
      "execution_count": 0,
      "outputs": []
    },
    {
      "metadata": {
        "id": "FtdVs47Pf5WG",
        "colab_type": "text"
      },
      "cell_type": "markdown",
      "source": [
        "**Tensor Flow Version**"
      ]
    },
    {
      "metadata": {
        "id": "5M7JMOKwJjtw",
        "colab_type": "code",
        "outputId": "a3b84205-5899-4083-a025-b769a05d8821",
        "colab": {
          "base_uri": "https://localhost:8080/",
          "height": 34
        }
      },
      "cell_type": "code",
      "source": [
        "tf.__version__"
      ],
      "execution_count": 47,
      "outputs": [
        {
          "output_type": "execute_result",
          "data": {
            "text/plain": [
              "'1.12.0-rc1'"
            ]
          },
          "metadata": {
            "tags": []
          },
          "execution_count": 47
        }
      ]
    },
    {
      "metadata": {
        "id": "o84C5NKif-YF",
        "colab_type": "text"
      },
      "cell_type": "markdown",
      "source": [
        "**Creating Constant and Defining Shape **"
      ]
    },
    {
      "metadata": {
        "id": "byJo4PJNJwiE",
        "colab_type": "code",
        "outputId": "e5325ad4-3fcf-40e3-8bab-e660b5e7909d",
        "colab": {
          "base_uri": "https://localhost:8080/",
          "height": 34
        }
      },
      "cell_type": "code",
      "source": [
        "hello = tf.constant(\"Hello World\" , dtype='string')\n",
        "print(hello)"
      ],
      "execution_count": 48,
      "outputs": [
        {
          "output_type": "stream",
          "text": [
            "Tensor(\"Const_27:0\", shape=(), dtype=string)\n"
          ],
          "name": "stdout"
        }
      ]
    },
    {
      "metadata": {
        "id": "Mmg79reTJ8AY",
        "colab_type": "code",
        "outputId": "dd94914b-ee4a-4f6c-cd64-44bb896d10fc",
        "colab": {
          "base_uri": "https://localhost:8080/",
          "height": 51
        }
      },
      "cell_type": "code",
      "source": [
        "hello_1 = tf.constant(\"Hello World\", shape=[2,5], name=\"hello\")\n",
        "print(hello_1)\n",
        "hello_2 = tf.constant(\"Hello World\", shape=[5,2], name=\"hello\")\n",
        "print(hello_2)"
      ],
      "execution_count": 49,
      "outputs": [
        {
          "output_type": "stream",
          "text": [
            "Tensor(\"hello_6:0\", shape=(2, 5), dtype=string)\n",
            "Tensor(\"hello_7:0\", shape=(5, 2), dtype=string)\n"
          ],
          "name": "stdout"
        }
      ]
    },
    {
      "metadata": {
        "id": "h_eKASqNhpkz",
        "colab_type": "text"
      },
      "cell_type": "markdown",
      "source": [
        "**Starting a Session**\n",
        "\n",
        "\n",
        "*   Start Session\n",
        "*   Print value\n",
        "\n"
      ]
    },
    {
      "metadata": {
        "id": "jWqjkYKXhs1M",
        "colab_type": "code",
        "outputId": "0e446db2-705d-42c0-db53-37cf79f84dce",
        "colab": {
          "base_uri": "https://localhost:8080/",
          "height": 238
        }
      },
      "cell_type": "code",
      "source": [
        "session = tf.Session()\n",
        "print(\"Print Hello:\\n\"+str(session.run(hello)))\n",
        "print(\"Print Hello  with Shape 2*5 :\\n\"+str(session.run(hello_1)))\n",
        "print(\"Print Hello  with Shape 5*2 :\\n\"+str(session.run(hello_2)))\n"
      ],
      "execution_count": 50,
      "outputs": [
        {
          "output_type": "stream",
          "text": [
            "Print Hello:\n",
            "b'Hello World'\n",
            "Print Hello  with Shape 2*5 :\n",
            "[[b'Hello World' b'Hello World' b'Hello World' b'Hello World'\n",
            "  b'Hello World']\n",
            " [b'Hello World' b'Hello World' b'Hello World' b'Hello World'\n",
            "  b'Hello World']]\n",
            "Print Hello  with Shape 5*2 :\n",
            "[[b'Hello World' b'Hello World']\n",
            " [b'Hello World' b'Hello World']\n",
            " [b'Hello World' b'Hello World']\n",
            " [b'Hello World' b'Hello World']\n",
            " [b'Hello World' b'Hello World']]\n"
          ],
          "name": "stdout"
        }
      ]
    },
    {
      "metadata": {
        "id": "uHXYSoXHksxs",
        "colab_type": "text"
      },
      "cell_type": "markdown",
      "source": [
        "**Basic Operations **\n",
        "\n",
        "*  addition,Subtract, Multiply, Subtract\n",
        "\n"
      ]
    },
    {
      "metadata": {
        "id": "MjfmN_pZkd2f",
        "colab_type": "code",
        "outputId": "2c07a187-b4f7-4d90-9a08-f0134c503cc9",
        "colab": {
          "base_uri": "https://localhost:8080/",
          "height": 85
        }
      },
      "cell_type": "code",
      "source": [
        "con1 = tf.constant([30] , dtype=float )\n",
        "con2 = tf.constant([7.5])\n",
        "\n",
        "result_add = tf.add(con1,con2)\n",
        "result_subtract = tf.subtract(con1,con2)\n",
        "result_multiply = tf.multiply(con1,con2)\n",
        "result_divide = tf.divide(con1,con2)\n",
        "\n",
        "print(\"Addition : \"+str(session.run(result_add)))\n",
        "print(\"Subtract : \"+str(session.run(result_subtract)))\n",
        "print(\"Multiply : \"+str(session.run(result_multiply)))\n",
        "print(\"Divide : \"+str(session.run(result_divide)))"
      ],
      "execution_count": 51,
      "outputs": [
        {
          "output_type": "stream",
          "text": [
            "Addition : [37.5]\n",
            "Subtract : [22.5]\n",
            "Multiply : [225.]\n",
            "Divide : [4.]\n"
          ],
          "name": "stdout"
        }
      ]
    },
    {
      "metadata": {
        "id": "e26VhIEqsz9g",
        "colab_type": "text"
      },
      "cell_type": "markdown",
      "source": [
        "**String Operation**"
      ]
    },
    {
      "metadata": {
        "id": "kwr_2iNEs5pJ",
        "colab_type": "code",
        "colab": {
          "base_uri": "https://localhost:8080/",
          "height": 51
        },
        "outputId": "4a301df1-d4b1-4b4d-bceb-9e012f4a4583"
      },
      "cell_type": "code",
      "source": [
        "firstName = tf.constant(\"Shubham\")\n",
        "lastName = tf.constant(\"Gharsele\")\n",
        "\n",
        "name = tf.add(firstName+\" \",lastName)\n",
        "print(session.run(name))\n",
        "\n",
        "length = tf.strings.length(name)\n",
        "print(session.run(length))"
      ],
      "execution_count": 52,
      "outputs": [
        {
          "output_type": "stream",
          "text": [
            "b'Shubham Gharsele'\n",
            "16\n"
          ],
          "name": "stdout"
        }
      ]
    },
    {
      "metadata": {
        "id": "QygjgZ_5n3Uh",
        "colab_type": "text"
      },
      "cell_type": "markdown",
      "source": [
        "**Creating Variable**"
      ]
    },
    {
      "metadata": {
        "id": "25v88eqgoAn2",
        "colab_type": "code",
        "colab": {
          "base_uri": "https://localhost:8080/",
          "height": 34
        },
        "outputId": "69583858-3c5c-4972-e66c-35de29d03866"
      },
      "cell_type": "code",
      "source": [
        "var1 = tf.Variable(20, name=\"var1\")\n",
        "\n",
        "#Initialize all variable \n",
        "init_op = tf.global_variables_initializer()\n",
        "session.run(init_op)\n",
        "\n",
        "#print variable\n",
        "print(session.run(var1))\n",
        "\n"
      ],
      "execution_count": 53,
      "outputs": [
        {
          "output_type": "stream",
          "text": [
            "20\n"
          ],
          "name": "stdout"
        }
      ]
    },
    {
      "metadata": {
        "id": "h8I__cjjr-A9",
        "colab_type": "text"
      },
      "cell_type": "markdown",
      "source": [
        "**Create Placeholder**"
      ]
    },
    {
      "metadata": {
        "id": "TBH2EYSDsEb6",
        "colab_type": "code",
        "colab": {
          "base_uri": "https://localhost:8080/",
          "height": 34
        },
        "outputId": "f87e42e0-34c2-40ba-f2f1-402c90076304"
      },
      "cell_type": "code",
      "source": [
        "pl1 = tf.placeholder(tf.int32)\n",
        "\n",
        "var2 = var1*pl1\n",
        "\n",
        "print(session.run(var2,feed_dict={pl1:4}))"
      ],
      "execution_count": 54,
      "outputs": [
        {
          "output_type": "stream",
          "text": [
            "80\n"
          ],
          "name": "stdout"
        }
      ]
    },
    {
      "metadata": {
        "id": "UZSvJcw0rQqU",
        "colab_type": "text"
      },
      "cell_type": "markdown",
      "source": [
        "**Closing   Session**\n",
        "\n",
        "\n",
        "\n",
        "*   Close the session once completed\n",
        "\n"
      ]
    },
    {
      "metadata": {
        "id": "q6uoEvicrYwe",
        "colab_type": "code",
        "colab": {}
      },
      "cell_type": "code",
      "source": [
        "session.close()"
      ],
      "execution_count": 0,
      "outputs": []
    }
  ]
}