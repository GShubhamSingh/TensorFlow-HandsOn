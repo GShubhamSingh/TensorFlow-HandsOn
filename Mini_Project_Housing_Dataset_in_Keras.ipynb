{
  "nbformat": 4,
  "nbformat_minor": 0,
  "metadata": {
    "colab": {
      "name": "Mini Project Housing Dataset in Keras.ipynb",
      "version": "0.3.2",
      "provenance": [],
      "include_colab_link": true
    },
    "kernelspec": {
      "name": "python3",
      "display_name": "Python 3"
    }
  },
  "cells": [
    {
      "cell_type": "markdown",
      "metadata": {
        "id": "view-in-github",
        "colab_type": "text"
      },
      "source": [
        "<a href=\"https://colab.research.google.com/github/GShubhamSingh/TensorFlow-HandsOn/blob/master/Mini_Project_Housing_Dataset_in_Keras.ipynb\" target=\"_parent\"><img src=\"https://colab.research.google.com/assets/colab-badge.svg\" alt=\"Open In Colab\"/></a>"
      ]
    },
    {
      "metadata": {
        "id": "QPgZLyMzEfSX",
        "colab_type": "text"
      },
      "cell_type": "markdown",
      "source": [
        "**Import Libraries**"
      ]
    },
    {
      "metadata": {
        "id": "FF8j0heb9bkx",
        "colab_type": "code",
        "colab": {}
      },
      "cell_type": "code",
      "source": [
        "import tensorflow as tf\n",
        "tf.reset_default_graph()"
      ],
      "execution_count": 0,
      "outputs": []
    },
    {
      "metadata": {
        "id": "8ZGNslAtEnQd",
        "colab_type": "text"
      },
      "cell_type": "markdown",
      "source": [
        "**Load Data**"
      ]
    },
    {
      "metadata": {
        "id": "wSFG2tWi91bW",
        "colab_type": "code",
        "colab": {}
      },
      "cell_type": "code",
      "source": [
        "(features,actual_prices),_ = tf.keras.datasets.boston_housing.load_data(test_split=0)"
      ],
      "execution_count": 0,
      "outputs": []
    },
    {
      "metadata": {
        "id": "XTNvRqmx-Syh",
        "colab_type": "code",
        "colab": {
          "base_uri": "https://localhost:8080/",
          "height": 34
        },
        "outputId": "0f1c6eb5-745d-4246-ba8c-562d415e2b72"
      },
      "cell_type": "code",
      "source": [
        "features.shape"
      ],
      "execution_count": 5,
      "outputs": [
        {
          "output_type": "execute_result",
          "data": {
            "text/plain": [
              "(506, 13)"
            ]
          },
          "metadata": {
            "tags": []
          },
          "execution_count": 5
        }
      ]
    },
    {
      "metadata": {
        "id": "eT8gjPcf-XCB",
        "colab_type": "code",
        "colab": {
          "base_uri": "https://localhost:8080/",
          "height": 34
        },
        "outputId": "85f1b50b-d5eb-4503-8082-9201b336799f"
      },
      "cell_type": "code",
      "source": [
        "actual_prices.shape"
      ],
      "execution_count": 6,
      "outputs": [
        {
          "output_type": "execute_result",
          "data": {
            "text/plain": [
              "(506,)"
            ]
          },
          "metadata": {
            "tags": []
          },
          "execution_count": 6
        }
      ]
    },
    {
      "metadata": {
        "id": "BV8lXzBA-czI",
        "colab_type": "code",
        "colab": {
          "base_uri": "https://localhost:8080/",
          "height": 68
        },
        "outputId": "5accbdee-1dcd-410c-a5af-988045b62b6b"
      },
      "cell_type": "code",
      "source": [
        "features[0]"
      ],
      "execution_count": 8,
      "outputs": [
        {
          "output_type": "execute_result",
          "data": {
            "text/plain": [
              "array([  1.23247,   0.     ,   8.14   ,   0.     ,   0.538  ,   6.142  ,\n",
              "        91.7    ,   3.9769 ,   4.     , 307.     ,  21.     , 396.9    ,\n",
              "        18.72   ])"
            ]
          },
          "metadata": {
            "tags": []
          },
          "execution_count": 8
        }
      ]
    },
    {
      "metadata": {
        "id": "qRUmZGrHEvqr",
        "colab_type": "text"
      },
      "cell_type": "markdown",
      "source": [
        "**Building Graph**"
      ]
    },
    {
      "metadata": {
        "id": "NG-Pw49IBErx",
        "colab_type": "code",
        "colab": {}
      },
      "cell_type": "code",
      "source": [
        "#Intialize Sequential Graph\n",
        "model = tf.keras.models.Sequential()\n",
        "\n",
        "#Normalize the graph\n",
        "model.add(tf.keras.layers.BatchNormalization(input_shape=(13,)))"
      ],
      "execution_count": 0,
      "outputs": []
    },
    {
      "metadata": {
        "id": "1IbUHD4lDEEJ",
        "colab_type": "code",
        "colab": {}
      },
      "cell_type": "code",
      "source": [
        "#Dense layer for prediction\n",
        "model.add(tf.keras.layers.Dense(1))\n",
        "\n",
        "#compile the graph adding the optimizer and loss\n",
        "model.compile(optimizer='sgd', loss='mse')"
      ],
      "execution_count": 0,
      "outputs": []
    },
    {
      "metadata": {
        "id": "vd50Y2N-Ddk4",
        "colab_type": "code",
        "colab": {
          "base_uri": "https://localhost:8080/",
          "height": 3434
        },
        "outputId": "0a0dc895-b5b5-46ed-da58-df50e7ff4edf"
      },
      "cell_type": "code",
      "source": [
        "#train the model\n",
        "model.fit(features,actual_prices,epochs=100)"
      ],
      "execution_count": 16,
      "outputs": [
        {
          "output_type": "stream",
          "text": [
            "Epoch 1/100\n",
            "506/506 [==============================] - 0s 37us/step - loss: 33.8530\n",
            "Epoch 2/100\n",
            "506/506 [==============================] - 0s 37us/step - loss: 30.7856\n",
            "Epoch 3/100\n",
            "506/506 [==============================] - 0s 34us/step - loss: 31.2410\n",
            "Epoch 4/100\n",
            "506/506 [==============================] - 0s 36us/step - loss: 29.8377\n",
            "Epoch 5/100\n",
            "506/506 [==============================] - 0s 36us/step - loss: 26.6242\n",
            "Epoch 6/100\n",
            "506/506 [==============================] - 0s 39us/step - loss: 27.2051\n",
            "Epoch 7/100\n",
            "506/506 [==============================] - 0s 29us/step - loss: 29.9042\n",
            "Epoch 8/100\n",
            "506/506 [==============================] - 0s 35us/step - loss: 28.2582\n",
            "Epoch 9/100\n",
            "506/506 [==============================] - 0s 35us/step - loss: 26.9687\n",
            "Epoch 10/100\n",
            "506/506 [==============================] - 0s 38us/step - loss: 30.4999\n",
            "Epoch 11/100\n",
            "506/506 [==============================] - 0s 35us/step - loss: 30.0212\n",
            "Epoch 12/100\n",
            "506/506 [==============================] - 0s 37us/step - loss: 27.8882\n",
            "Epoch 13/100\n",
            "506/506 [==============================] - 0s 47us/step - loss: 30.4524\n",
            "Epoch 14/100\n",
            "506/506 [==============================] - 0s 39us/step - loss: 30.4775\n",
            "Epoch 15/100\n",
            "506/506 [==============================] - 0s 39us/step - loss: 30.8198\n",
            "Epoch 16/100\n",
            "506/506 [==============================] - 0s 39us/step - loss: 30.9805\n",
            "Epoch 17/100\n",
            "506/506 [==============================] - 0s 37us/step - loss: 25.2614\n",
            "Epoch 18/100\n",
            "506/506 [==============================] - 0s 38us/step - loss: 29.2271\n",
            "Epoch 19/100\n",
            "506/506 [==============================] - 0s 39us/step - loss: 31.3035\n",
            "Epoch 20/100\n",
            "506/506 [==============================] - 0s 36us/step - loss: 27.0394\n",
            "Epoch 21/100\n",
            "506/506 [==============================] - 0s 37us/step - loss: 27.4732\n",
            "Epoch 22/100\n",
            "506/506 [==============================] - 0s 39us/step - loss: 30.3112\n",
            "Epoch 23/100\n",
            "506/506 [==============================] - 0s 32us/step - loss: 29.6575\n",
            "Epoch 24/100\n",
            "506/506 [==============================] - 0s 37us/step - loss: 27.4939\n",
            "Epoch 25/100\n",
            "506/506 [==============================] - 0s 34us/step - loss: 29.3389\n",
            "Epoch 26/100\n",
            "506/506 [==============================] - 0s 40us/step - loss: 28.6889\n",
            "Epoch 27/100\n",
            "506/506 [==============================] - 0s 32us/step - loss: 29.3841\n",
            "Epoch 28/100\n",
            "506/506 [==============================] - 0s 38us/step - loss: 30.8958\n",
            "Epoch 29/100\n",
            "506/506 [==============================] - 0s 38us/step - loss: 26.0154\n",
            "Epoch 30/100\n",
            "506/506 [==============================] - 0s 35us/step - loss: 29.8936\n",
            "Epoch 31/100\n",
            "506/506 [==============================] - 0s 37us/step - loss: 27.1985\n",
            "Epoch 32/100\n",
            "506/506 [==============================] - 0s 37us/step - loss: 30.5906\n",
            "Epoch 33/100\n",
            "506/506 [==============================] - 0s 39us/step - loss: 26.5752\n",
            "Epoch 34/100\n",
            "506/506 [==============================] - 0s 41us/step - loss: 28.2687\n",
            "Epoch 35/100\n",
            "506/506 [==============================] - 0s 38us/step - loss: 24.9966\n",
            "Epoch 36/100\n",
            "506/506 [==============================] - 0s 32us/step - loss: 29.1180\n",
            "Epoch 37/100\n",
            "506/506 [==============================] - 0s 45us/step - loss: 32.9535\n",
            "Epoch 38/100\n",
            "506/506 [==============================] - 0s 34us/step - loss: 31.7257\n",
            "Epoch 39/100\n",
            "506/506 [==============================] - 0s 33us/step - loss: 27.1305\n",
            "Epoch 40/100\n",
            "506/506 [==============================] - 0s 37us/step - loss: 27.0211\n",
            "Epoch 41/100\n",
            "506/506 [==============================] - 0s 40us/step - loss: 27.9585\n",
            "Epoch 42/100\n",
            "506/506 [==============================] - 0s 37us/step - loss: 27.0939\n",
            "Epoch 43/100\n",
            "506/506 [==============================] - 0s 32us/step - loss: 25.7976\n",
            "Epoch 44/100\n",
            "506/506 [==============================] - 0s 37us/step - loss: 26.9599\n",
            "Epoch 45/100\n",
            "506/506 [==============================] - 0s 39us/step - loss: 28.6279\n",
            "Epoch 46/100\n",
            "506/506 [==============================] - 0s 38us/step - loss: 25.8995\n",
            "Epoch 47/100\n",
            "506/506 [==============================] - 0s 38us/step - loss: 29.8488\n",
            "Epoch 48/100\n",
            "506/506 [==============================] - 0s 36us/step - loss: 31.2238\n",
            "Epoch 49/100\n",
            "506/506 [==============================] - 0s 39us/step - loss: 30.0830\n",
            "Epoch 50/100\n",
            "506/506 [==============================] - 0s 33us/step - loss: 29.1739\n",
            "Epoch 51/100\n",
            "506/506 [==============================] - 0s 32us/step - loss: 31.3766\n",
            "Epoch 52/100\n",
            "506/506 [==============================] - 0s 35us/step - loss: 29.7466\n",
            "Epoch 53/100\n",
            "506/506 [==============================] - 0s 36us/step - loss: 29.4281\n",
            "Epoch 54/100\n",
            "506/506 [==============================] - 0s 41us/step - loss: 30.8164\n",
            "Epoch 55/100\n",
            "506/506 [==============================] - 0s 39us/step - loss: 29.2972\n",
            "Epoch 56/100\n",
            "506/506 [==============================] - 0s 41us/step - loss: 29.4699\n",
            "Epoch 57/100\n",
            "506/506 [==============================] - 0s 37us/step - loss: 30.0593\n",
            "Epoch 58/100\n",
            "506/506 [==============================] - 0s 34us/step - loss: 29.3153\n",
            "Epoch 59/100\n",
            "506/506 [==============================] - 0s 33us/step - loss: 27.9882\n",
            "Epoch 60/100\n",
            "506/506 [==============================] - 0s 44us/step - loss: 29.9552\n",
            "Epoch 61/100\n",
            "506/506 [==============================] - 0s 45us/step - loss: 30.3331\n",
            "Epoch 62/100\n",
            "506/506 [==============================] - 0s 38us/step - loss: 29.1775\n",
            "Epoch 63/100\n",
            "506/506 [==============================] - 0s 37us/step - loss: 28.8816\n",
            "Epoch 64/100\n",
            "506/506 [==============================] - 0s 35us/step - loss: 32.3793\n",
            "Epoch 65/100\n",
            "506/506 [==============================] - 0s 36us/step - loss: 29.4562\n",
            "Epoch 66/100\n",
            "506/506 [==============================] - 0s 36us/step - loss: 27.5445\n",
            "Epoch 67/100\n",
            "506/506 [==============================] - 0s 37us/step - loss: 30.9151\n",
            "Epoch 68/100\n",
            "506/506 [==============================] - 0s 34us/step - loss: 29.1965\n",
            "Epoch 69/100\n",
            "506/506 [==============================] - 0s 36us/step - loss: 26.9957\n",
            "Epoch 70/100\n",
            "506/506 [==============================] - 0s 34us/step - loss: 27.5950\n",
            "Epoch 71/100\n",
            "506/506 [==============================] - 0s 36us/step - loss: 25.3759\n",
            "Epoch 72/100\n",
            "506/506 [==============================] - 0s 34us/step - loss: 28.6523\n",
            "Epoch 73/100\n",
            "506/506 [==============================] - 0s 34us/step - loss: 30.3689\n",
            "Epoch 74/100\n",
            "506/506 [==============================] - 0s 35us/step - loss: 29.0469\n",
            "Epoch 75/100\n",
            "506/506 [==============================] - 0s 34us/step - loss: 29.2591\n",
            "Epoch 76/100\n",
            "506/506 [==============================] - 0s 31us/step - loss: 30.0400\n",
            "Epoch 77/100\n",
            "506/506 [==============================] - 0s 36us/step - loss: 29.5801\n",
            "Epoch 78/100\n",
            "506/506 [==============================] - 0s 40us/step - loss: 31.0504\n",
            "Epoch 79/100\n",
            "506/506 [==============================] - 0s 37us/step - loss: 32.5422\n",
            "Epoch 80/100\n",
            "506/506 [==============================] - 0s 35us/step - loss: 30.5271\n",
            "Epoch 81/100\n",
            "506/506 [==============================] - 0s 35us/step - loss: 26.5529\n",
            "Epoch 82/100\n",
            "506/506 [==============================] - 0s 35us/step - loss: 28.0315\n",
            "Epoch 83/100\n",
            "506/506 [==============================] - 0s 41us/step - loss: 28.5603\n",
            "Epoch 84/100\n",
            "506/506 [==============================] - 0s 37us/step - loss: 29.5397\n",
            "Epoch 85/100\n",
            "506/506 [==============================] - 0s 36us/step - loss: 29.9220\n",
            "Epoch 86/100\n",
            "506/506 [==============================] - 0s 36us/step - loss: 28.7724\n",
            "Epoch 87/100\n",
            "506/506 [==============================] - 0s 35us/step - loss: 29.7057\n",
            "Epoch 88/100\n",
            "506/506 [==============================] - 0s 35us/step - loss: 25.8104\n",
            "Epoch 89/100\n",
            "506/506 [==============================] - 0s 39us/step - loss: 25.6123\n",
            "Epoch 90/100\n",
            "506/506 [==============================] - 0s 34us/step - loss: 30.3487\n",
            "Epoch 91/100\n",
            "506/506 [==============================] - 0s 36us/step - loss: 25.4856\n",
            "Epoch 92/100\n",
            "506/506 [==============================] - 0s 34us/step - loss: 26.4385\n",
            "Epoch 93/100\n",
            "506/506 [==============================] - 0s 38us/step - loss: 30.9055\n",
            "Epoch 94/100\n",
            "506/506 [==============================] - 0s 38us/step - loss: 26.5207\n",
            "Epoch 95/100\n",
            "506/506 [==============================] - 0s 35us/step - loss: 28.4519\n",
            "Epoch 96/100\n",
            "506/506 [==============================] - 0s 39us/step - loss: 30.4148\n",
            "Epoch 97/100\n",
            "506/506 [==============================] - 0s 37us/step - loss: 26.4546\n",
            "Epoch 98/100\n",
            "506/506 [==============================] - 0s 36us/step - loss: 25.6735\n",
            "Epoch 99/100\n",
            "506/506 [==============================] - 0s 36us/step - loss: 28.9368\n",
            "Epoch 100/100\n",
            "506/506 [==============================] - 0s 34us/step - loss: 31.8122\n"
          ],
          "name": "stdout"
        },
        {
          "output_type": "execute_result",
          "data": {
            "text/plain": [
              "<tensorflow.python.keras.callbacks.History at 0x7f8d99382cc0>"
            ]
          },
          "metadata": {
            "tags": []
          },
          "execution_count": 16
        }
      ]
    }
  ]
}